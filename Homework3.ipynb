{
  "nbformat": 4,
  "nbformat_minor": 0,
  "metadata": {
    "colab": {
      "name": "Homework3.ipynb",
      "provenance": [],
      "include_colab_link": true
    },
    "kernelspec": {
      "name": "python3",
      "display_name": "Python 3"
    },
    "language_info": {
      "name": "python"
    }
  },
  "cells": [
    {
      "cell_type": "markdown",
      "metadata": {
        "id": "view-in-github",
        "colab_type": "text"
      },
      "source": [
        "<a href=\"https://colab.research.google.com/github/NurayBashirli/HW1/blob/main/Homework3.ipynb\" target=\"_parent\"><img src=\"https://colab.research.google.com/assets/colab-badge.svg\" alt=\"Open In Colab\"/></a>"
      ]
    },
    {
      "cell_type": "code",
      "execution_count": null,
      "metadata": {
        "id": "hTfxaTM5jqZY"
      },
      "outputs": [],
      "source": [
        "import pandas as pd\n",
        "import numpy as np\n",
        "import matplotlib.pyplot as plt\n",
        "import seaborn as sns"
      ]
    },
    {
      "cell_type": "code",
      "source": [
        "#Q1-Read the data https://raw.githubusercontent.com/ogut77/DataScience/main/data/diamond.csv\n",
        "import pandas as pd\n",
        "\n",
        "url = \"https://raw.githubusercontent.com/ogut77/DataScience/main/data/diamond.csv\"\n",
        "diamond_data = pd.read_csv(url)\n",
        "print(diamond_data.head())\n"
      ],
      "metadata": {
        "id": "T8jnje1Il-St",
        "outputId": "34de96bb-fb3d-452b-b4c9-7d51913a0099",
        "colab": {
          "base_uri": "https://localhost:8080/"
        }
      },
      "execution_count": 1,
      "outputs": [
        {
          "output_type": "stream",
          "name": "stdout",
          "text": [
            "   Carat Weight    Cut Color Clarity Polish Symmetry Report  Price\n",
            "0          1.10  Ideal     H     SI1     VG       EX    GIA   5169\n",
            "1          0.83  Ideal     H     VS1     ID       ID   AGSL   3470\n",
            "2          0.85  Ideal     H     SI1     EX       EX    GIA   3183\n",
            "3          0.91  Ideal     E     SI1     VG       VG    GIA   4370\n",
            "4          0.83  Ideal     G     SI1     EX       EX    GIA   3171\n"
          ]
        }
      ]
    },
    {
      "cell_type": "markdown",
      "source": [
        "The description of dataset is given below.\n",
        "\n",
        "•\tID: Uniquely identifies each observation (diamond)\n",
        "\n",
        "•\tCarat Weight: The weight of the diamond in metric carats. One carat is equal to 0.2 grams, roughly the same weight as a paperclip\n",
        "\n",
        "•\tCut: One of five values indicating the cut of the diamond in the following order of desirability (Signature-Ideal, Ideal, Very Good, Good, Fair)\n",
        "\n",
        "•\tColor: One of six values indicating the diamond's color in the following order of desirability (D, E, F - Colorless, G, H, I - Near colorless)\n",
        "\n",
        "•\tClarity: One of seven values indicating the diamond's clarity in the following order of desirability (F - Flawless, IF - Internally Flawless, VVS1 or VVS2 - Very, Very Slightly Included, or VS1 or VS2 - Very Slightly Included, SI1 - Slightly Included)\n",
        "\n",
        "•\tPolish: One of four values indicating the diamond's polish (ID - Ideal, EX - Excellent, VG - Very Good, G - Good)\n",
        "\n",
        "•\tSymmetry: One of four values indicating the diamond's symmetry (ID - Ideal, EX - Excellent, VG - Very Good, G - Good)\n",
        "\n",
        "•\tReport: One of of two values \"AGSL\" or \"GIA\" indicating which grading agency reported the qualities of the diamond qualities\n",
        "\n",
        "•\tPrice: The The amount in USD that the diamond is valued\n"
      ],
      "metadata": {
        "id": "BuaIQNSwKfh7"
      }
    },
    {
      "cell_type": "code",
      "source": [
        "#Q2-Get first 2 rows of data\n",
        "import pandas as pd\n",
        "\n",
        "url = \"https://raw.githubusercontent.com/ogut77/DataScience/main/data/diamond.csv\"\n",
        "diamond_data = pd.read_csv(url)\n",
        "print(diamond_data.head(2))\n"
      ],
      "metadata": {
        "colab": {
          "base_uri": "https://localhost:8080/"
        },
        "id": "3tA-6vOnlW-V",
        "outputId": "868644aa-8e1d-4a37-92e5-4983c448ad85"
      },
      "execution_count": 4,
      "outputs": [
        {
          "output_type": "stream",
          "name": "stdout",
          "text": [
            "   Carat Weight    Cut Color Clarity Polish Symmetry Report  Price\n",
            "0          1.10  Ideal     H     SI1     VG       EX    GIA   5169\n",
            "1          0.83  Ideal     H     VS1     ID       ID   AGSL   3470\n"
          ]
        }
      ]
    },
    {
      "cell_type": "code",
      "source": [
        "#Q3-Check if there is missing value\n",
        "import pandas as pd\n",
        "\n",
        "url = \"https://raw.githubusercontent.com/ogut77/DataScience/main/data/diamond.csv\"\n",
        "diamond_data = pd.read_csv(url)\n",
        "missing_values = diamond_data.isnull().sum()\n",
        "\n",
        "print(missing_values)"
      ],
      "metadata": {
        "id": "Km0DpQwUIj7O",
        "outputId": "6044d6c3-8a1c-40ec-8865-cfdfa7c7fd39",
        "colab": {
          "base_uri": "https://localhost:8080/"
        }
      },
      "execution_count": 6,
      "outputs": [
        {
          "output_type": "stream",
          "name": "stdout",
          "text": [
            "Carat Weight    0\n",
            "Cut             0\n",
            "Color           0\n",
            "Clarity         0\n",
            "Polish          0\n",
            "Symmetry        0\n",
            "Report          0\n",
            "Price           0\n",
            "dtype: int64\n"
          ]
        }
      ]
    },
    {
      "cell_type": "code",
      "source": [
        "#Q4- Get data information and number of rows and columns\n",
        "import pandas as pd\n",
        "\n",
        "url = \"https://raw.githubusercontent.com/ogut77/DataScience/main/data/diamond.csv\"\n",
        "diamond_data = pd.read_csv(url)\n",
        "data_info = diamond_data.info()\n",
        "num_rows, num_columns = diamond_data.shape"
      ],
      "metadata": {
        "colab": {
          "base_uri": "https://localhost:8080/"
        },
        "id": "GzdD_OQYlmQ5",
        "outputId": "d1cea82b-854d-42bc-f578-4b1a44cf4fc1"
      },
      "execution_count": 9,
      "outputs": [
        {
          "output_type": "stream",
          "name": "stdout",
          "text": [
            "<class 'pandas.core.frame.DataFrame'>\n",
            "RangeIndex: 6000 entries, 0 to 5999\n",
            "Data columns (total 8 columns):\n",
            " #   Column        Non-Null Count  Dtype  \n",
            "---  ------        --------------  -----  \n",
            " 0   Carat Weight  6000 non-null   float64\n",
            " 1   Cut           6000 non-null   object \n",
            " 2   Color         6000 non-null   object \n",
            " 3   Clarity       6000 non-null   object \n",
            " 4   Polish        6000 non-null   object \n",
            " 5   Symmetry      6000 non-null   object \n",
            " 6   Report        6000 non-null   object \n",
            " 7   Price         6000 non-null   int64  \n",
            "dtypes: float64(1), int64(1), object(6)\n",
            "memory usage: 375.1+ KB\n"
          ]
        }
      ]
    },
    {
      "cell_type": "code",
      "source": [
        "#Q5-Get descriptive statistics of data\n",
        "import pandas as pd\n",
        "\n",
        "url = \"https://raw.githubusercontent.com/ogut77/DataScience/main/data/diamond.csv\"\n",
        "diamond_data = pd.read_csv(url)\n",
        "\n",
        "stats = diamond_data.describe()\n",
        "\n",
        "formatted_stats = stats.rename(index={'count': 'count', 'mean': 'mean', 'std': 'std', 'min': 'min', '25%': '25%', '50%': '50%', '75%': '75%', 'max': 'max'})\n",
        "formatted_stats.loc['count', 'Age'] = '400(mln)'\n",
        "formatted_stats.loc['count', 'Balance'] = '400(mln)'\n",
        "formatted_stats.loc['max', 'Age'] = '98(mln)'\n",
        "formatted_stats.loc['max', 'Balance'] = '1999(mln)'\n",
        "formatted_stats.loc['min', 'Balance'] = '0'\n",
        "\n",
        "print(formatted_stats)\n"
      ],
      "metadata": {
        "colab": {
          "base_uri": "https://localhost:8080/"
        },
        "id": "qdmnS0TlmE8U",
        "outputId": "e19dcd15-8554-4177-8d86-0f31a64a924e"
      },
      "execution_count": 22,
      "outputs": [
        {
          "output_type": "stream",
          "name": "stdout",
          "text": [
            "       Carat Weight          Price       Age    Balance\n",
            "count   6000.000000    6000.000000  400(mln)   400(mln)\n",
            "mean       1.334520   11791.579333       NaN        NaN\n",
            "std        0.475696   10184.350051       NaN        NaN\n",
            "min        0.750000    2184.000000       NaN          0\n",
            "25%        1.000000    5150.500000       NaN        NaN\n",
            "50%        1.130000    7857.000000       NaN        NaN\n",
            "75%        1.590000   15036.500000       NaN        NaN\n",
            "max        2.910000  101561.000000   98(mln)  1999(mln)\n"
          ]
        }
      ]
    },
    {
      "cell_type": "code",
      "source": [
        "#Q6-Use seasoborns heat map to generate following heatmap\n",
        "# annot = True to print the correlation inside the square\n",
        "import pandas as pd\n",
        "import seaborn as sns\n",
        "\n",
        "df = pd.read_csv(\"https://raw.githubusercontent.com/ogut77/DataScience/main/data/diamond.csv\")\n",
        "corr = df.corr()\n",
        "sns.heatmap(corr, annot=True)"
      ],
      "metadata": {
        "colab": {
          "base_uri": "https://localhost:8080/",
          "height": 510
        },
        "id": "FfK17cCgXW0t",
        "outputId": "cf63e401-a3b6-4210-b417-460b50ad5d7f"
      },
      "execution_count": 28,
      "outputs": [
        {
          "output_type": "stream",
          "name": "stderr",
          "text": [
            "<ipython-input-28-3c792e51c83b>:7: FutureWarning: The default value of numeric_only in DataFrame.corr is deprecated. In a future version, it will default to False. Select only valid columns or specify the value of numeric_only to silence this warning.\n",
            "  corr = df.corr()\n"
          ]
        },
        {
          "output_type": "execute_result",
          "data": {
            "text/plain": [
              "<Axes: >"
            ]
          },
          "metadata": {},
          "execution_count": 28
        },
        {
          "output_type": "display_data",
          "data": {
            "text/plain": [
              "<Figure size 640x480 with 2 Axes>"
            ],
            "image/png": "[encoded data removed]"
          },
          "metadata": {}
        }
      ]
    },
    {
      "cell_type": "code",
      "source": [
        "#Q7-Use seasoborns paiplot to generate following  diagram\n",
        "import pandas as pd\n",
        "import seaborn as sns\n",
        "\n",
        "df = pd.read_csv(\"https://raw.githubusercontent.com/ogut77/DataScience/main/data/diamond.csv\")\n",
        "sns.pairplot(df)"
      ],
      "metadata": {
        "id": "DRsXK5YSJchH",
        "outputId": "08ea63f3-90a8-4443-d86b-fc8d86d1aff3",
        "colab": {
          "base_uri": "https://localhost:8080/",
          "height": 531
        }
      },
      "execution_count": 30,
      "outputs": [
        {
          "output_type": "execute_result",
          "data": {
            "text/plain": [
              "<seaborn.axisgrid.PairGrid at 0x7c7a5d5dbdf0>"
            ]
          },
          "metadata": {},
          "execution_count": 30
        },
        {
          "output_type": "display_data",
          "data": {
            "text/plain": [
              "<Figure size 500x500 with 6 Axes>"
            ],
            "image/png": "[encoded data removed]"
          },
          "metadata": {}
        }
      ]
    },
    {
      "cell_type": "code",
      "source": [
        "#Q8-Divide the data so that get Price as ouput variable (Y) and other variables as input varable (X)\n",
        "import pandas as pd\n",
        "\n",
        "url = \"https://raw.githubusercontent.com/ogut77/DataScience/main/data/diamond.csv\"\n",
        "diamond_data = pd.read_csv(url)\n",
        "X = diamond_data.drop(columns=['Price'])\n",
        "Y = diamond_data['Price']\n",
        "Y = Y.values\n",
        "\n",
        "print(\"Shape of X:\", X.shape)\n",
        "print(\"Shape of Y:\", Y.shape)"
      ],
      "metadata": {
        "id": "uaRkCQVMOO6J",
        "outputId": "c9c144b0-a0ec-4b41-e4d9-83557d4d5980",
        "colab": {
          "base_uri": "https://localhost:8080/"
        }
      },
      "execution_count": 35,
      "outputs": [
        {
          "output_type": "stream",
          "name": "stdout",
          "text": [
            "Shape of X: (6000, 7)\n",
            "Shape of Y: (6000,)\n"
          ]
        }
      ]
    },
    {
      "cell_type": "code",
      "source": [
        "#Q9-Create dummy for the input variables (X)\n",
        "import pandas as pd\n",
        "\n",
        "url = \"https://raw.githubusercontent.com/ogut77/DataScience/main/data/diamond.csv\"\n",
        "diamond_data = pd.read_csv(url)\n",
        "X = diamond_data.drop(columns=['Price'])\n",
        "X = pd.get_dummies(X)\n",
        "\n",
        "print(X.head())"
      ],
      "metadata": {
        "id": "yOnzVDOaOr7Q",
        "outputId": "499b888e-4206-4055-b625-b996404d8e69",
        "colab": {
          "base_uri": "https://localhost:8080/"
        }
      },
      "execution_count": 45,
      "outputs": [
        {
          "output_type": "stream",
          "name": "stdout",
          "text": [
            "   Carat Weight  Cut_Fair  Cut_Good  Cut_Ideal  Cut_Signature-Ideal  \\\n",
            "0          1.10         0         0          1                    0   \n",
            "1          0.83         0         0          1                    0   \n",
            "2          0.85         0         0          1                    0   \n",
            "3          0.91         0         0          1                    0   \n",
            "4          0.83         0         0          1                    0   \n",
            "\n",
            "   Cut_Very Good  Color_D  Color_E  Color_F  Color_G  ...  Polish_EX  \\\n",
            "0              0        0        0        0        0  ...          0   \n",
            "1              0        0        0        0        0  ...          0   \n",
            "2              0        0        0        0        0  ...          1   \n",
            "3              0        0        1        0        0  ...          0   \n",
            "4              0        0        0        0        1  ...          1   \n",
            "\n",
            "   Polish_G  Polish_ID  Polish_VG  Symmetry_EX  Symmetry_G  Symmetry_ID  \\\n",
            "0         0          0          1            1           0            0   \n",
            "1         0          1          0            0           0            1   \n",
            "2         0          0          0            1           0            0   \n",
            "3         0          0          1            0           0            0   \n",
            "4         0          0          0            1           0            0   \n",
            "\n",
            "   Symmetry_VG  Report_AGSL  Report_GIA  \n",
            "0            0            0           1  \n",
            "1            0            1           0  \n",
            "2            0            0           1  \n",
            "3            1            0           1  \n",
            "4            0            0           1  \n",
            "\n",
            "[5 rows x 29 columns]\n"
          ]
        }
      ]
    },
    {
      "cell_type": "code",
      "source": [
        "#Q10 -Split the input and output data into two parts: test data (20%) and train data(%80)\n",
        "from sklearn.model_selection import train_test_split\n",
        "\n",
        "url = \"https://raw.githubusercontent.com/ogut77/DataScience/main/data/diamond.csv\"\n",
        "diamond_data = pd.read_csv(url)\n",
        "X = diamond_data.drop(columns=['Price'])\n",
        "Y = diamond_data['Price']\n",
        "X_train, X_test, Y_train, Y_test = train_test_split(X, Y, test_size=0.2, random_state=42)\n",
        "\n",
        "print(X_train.shape)\n",
        "print(Y_train.shape)\n",
        "print(X_test.shape)\n",
        "print(Y_test.shape)"
      ],
      "metadata": {
        "id": "tF8NMbxaO3BQ",
        "outputId": "ccdaa2cb-faa7-4569-c72f-e7917447fb7a",
        "colab": {
          "base_uri": "https://localhost:8080/"
        }
      },
      "execution_count": 51,
      "outputs": [
        {
          "output_type": "stream",
          "name": "stdout",
          "text": [
            "(4800, 7)\n",
            "(4800,)\n",
            "(1200, 7)\n",
            "(1200,)\n"
          ]
        }
      ]
    },
    {
      "cell_type": "code",
      "source": [
        "#Q12 -Based on the performance of test and training model, can we say there is overfitting or not in the performace of liner model?\n",
        "To determine if there is overfitting in the performance of the linear model, we typically compare the performance on the training set to the performance on the test set.\n",
        "1. If the model performs significantly better on the training set compared to the test set, it suggests overfitting.\n",
        "2. If the model performs worse on the training set compared to the test set, it suggests underfitting.\n",
        "Therefore, to determine if there is overfitting, we need to compare the performance metrics (e.g., MAE) on both the training and test sets."
      ],
      "metadata": {
        "id": "rMtQ_dAiRm2C"
      },
      "execution_count": null,
      "outputs": []
    },
    {
      "cell_type": "code",
      "source": [
        "def evalmetric(y,ypred):\n",
        " import numpy as np\n",
        " e = y - ypred\n",
        " mse_f = np.mean(e**2)\n",
        " rmse_f = np.sqrt(mse_f)\n",
        " mae_f = np.mean(abs(e))\n",
        " mape_f = 100*np.mean(abs(e/y))\n",
        " r2_f = 1-(sum(e**2)/sum((y-np.mean(y))**2))\n",
        " print(\"MSE:\", mse_f)\n",
        " print(\"RMSE:\", rmse_f)\n",
        " print(\"MAE:\",mae_f)\n",
        " print(\"MAPE:\",mape_f)\n",
        " print(\"R-Squared:\", r2_f)"
      ],
      "metadata": {
        "id": "dguz6T4nSAGe"
      },
      "execution_count": null,
      "outputs": []
    },
    {
      "cell_type": "code",
      "source": [
        "#Q13- Use Lasso regression to evaluate the performance of test and train data   using evalmetric\n",
        "import pandas as pd\n",
        "from sklearn.model_selection import train_test_split\n",
        "from sklearn.linear_model import Lasso\n",
        "from sklearn.metrics import mean_absolute_error\n",
        "\n",
        "# Read the data from the URL\n",
        "url = \"https://raw.githubusercontent.com/ogut77/DataScience/main/data/diamond.csv\"\n",
        "diamond_data = pd.read_csv(url)\n",
        "\n",
        "# Perform one-hot encoding for categorical variables\n",
        "diamond_data = pd.get_dummies(diamond_data, columns=['Cut', 'Color', 'Clarity', 'Polish', 'Symmetry', 'Report'])\n",
        "\n",
        "# Separate input variables (X) and output variable (Y)\n",
        "X = diamond_data.drop(columns=['Price'])  # Input variables (all columns except 'Price')\n",
        "Y = diamond_data['Price']  # Output variable ('Price' column)\n",
        "\n",
        "# Split the data into training and test sets (80% train, 20% test)\n",
        "X_train, X_test, Y_train, Y_test = train_test_split(X, Y, test_size=0.2, random_state=42)\n",
        "\n",
        "# Create and fit the Lasso regression model\n",
        "model = Lasso(alpha=0.1)  # You can adjust the alpha value as needed\n",
        "model.fit(X_train, Y_train)\n",
        "\n",
        "# Predict on training and test data\n",
        "Y_train_pred = model.predict(X_train)\n",
        "Y_test_pred = model.predict(X_test)\n",
        "\n",
        "# Evaluate the model using Mean Absolute Error (MAE)\n",
        "train_mae = mean_absolute_error(Y_train, Y_train_pred)\n",
        "test_mae = mean_absolute_error(Y_test, Y_test_pred)\n",
        "\n",
        "# Print evaluation results\n",
        "print(\"Mean Absolute Error (MAE) for Training Data:\", train_mae)\n",
        "print(\"Mean Absolute Error (MAE) for Test Data:\", test_mae)\n"
      ],
      "metadata": {
        "id": "VNrzaVlFSeUr",
        "outputId": "90ef70ea-27d4-4b75-84f3-3f778f19ae57",
        "colab": {
          "base_uri": "https://localhost:8080/"
        }
      },
      "execution_count": 88,
      "outputs": [
        {
          "output_type": "stream",
          "name": "stdout",
          "text": [
            "Mean Absolute Error (MAE) for Training Data: 2420.237382609506\n",
            "Mean Absolute Error (MAE) for Test Data: 2386.6447459077594\n"
          ]
        },
        {
          "output_type": "stream",
          "name": "stderr",
          "text": [
            "/usr/local/lib/python3.10/dist-packages/sklearn/linear_model/_coordinate_descent.py:631: ConvergenceWarning: Objective did not converge. You might want to increase the number of iterations, check the scale of the features or consider increasing regularisation. Duality gap: 4.244e+09, tolerance: 4.943e+07\n",
            "  model = cd_fast.enet_coordinate_descent(\n"
          ]
        }
      ]
    },
    {
      "cell_type": "code",
      "source": [
        "#Q11 Use Linear regression to evaluate the performance of test and train data of Linear model  using evalmetric\n",
        "import pandas as pd\n",
        "from sklearn.model_selection import train_test_split\n",
        "from sklearn.linear_model import LinearRegression\n",
        "from sklearn.metrics import mean_absolute_error\n",
        "\n",
        "url = \"https://raw.githubusercontent.com/ogut77/DataScience/main/data/diamond.csv\"\n",
        "diamond_data = pd.read_csv(url)\n",
        "\n",
        "diamond_data = pd.get_dummies(diamond_data, columns=['Cut', 'Color', 'Clarity', 'Polish', 'Symmetry', 'Report'])\n",
        "\n",
        "X = diamond_data.drop(columns=['Price'])\n",
        "Y = diamond_data['Price']\n",
        "X_train, X_test, Y_train, Y_test = train_test_split(X, Y, test_size=0.2, random_state=42)\n",
        "\n",
        "model = LinearRegression()\n",
        "model.fit(X_train, Y_train)\n",
        "\n",
        "Y_train_pred = model.predict(X_train)\n",
        "Y_test_pred = model.predict(X_test)\n",
        "\n",
        "train_mae = mean_absolute_error(Y_train, Y_train_pred)\n",
        "test_mae = mean_absolute_error(Y_test, Y_test_pred)\n",
        "\n",
        "print(\"Mean Absolute Error (MAE) for Training Data:\", train_mae)\n",
        "print(\"Mean Absolute Error (MAE) for Test Data:\", test_mae)\n",
        "\n"
      ],
      "metadata": {
        "id": "BgBCwe9gRukQ",
        "outputId": "d211a0fb-2438-462c-ce56-3d21a2dbcde9",
        "colab": {
          "base_uri": "https://localhost:8080/"
        }
      },
      "execution_count": 86,
      "outputs": [
        {
          "output_type": "stream",
          "name": "stdout",
          "text": [
            "Mean Absolute Error (MAE) for Training Data: 2420.392397375231\n",
            "Mean Absolute Error (MAE) for Test Data: 2386.8817587054787\n"
          ]
        }
      ]
    },
    {
      "cell_type": "code",
      "source": [
        "#Q14 Use Ridge regreesionto evaluate the performance of test and train data   using evalmetric\n",
        "import pandas as pd\n",
        "from sklearn.model_selection import train_test_split\n",
        "from sklearn.linear_model import Ridge\n",
        "from sklearn.metrics import mean_absolute_error\n",
        "from sklearn.preprocessing import OneHotEncoder\n",
        "\n",
        "# Read the data from the URL\n",
        "url = \"https://raw.githubusercontent.com/ogut77/DataScience/main/data/diamond.csv\"\n",
        "diamond_data = pd.read_csv(url)\n",
        "\n",
        "# Perform one-hot encoding for categorical variables\n",
        "diamond_data = pd.get_dummies(diamond_data, columns=['Cut', 'Color', 'Clarity', 'Polish', 'Symmetry', 'Report'])\n",
        "\n",
        "# Separate input variables (X) and output variable (Y)\n",
        "X = diamond_data.drop(columns=['Price'])  # Input variables (all columns except 'Price')\n",
        "Y = diamond_data['Price']  # Output variable ('Price' column)\n",
        "\n",
        "# Split the data into training and test sets (80% train, 20% test)\n",
        "X_train, X_test, Y_train, Y_test = train_test_split(X, Y, test_size=0.2, random_state=42)\n",
        "\n",
        "# Create and fit the Ridge regression model\n",
        "model = Ridge(alpha=0.1)  # You can adjust the alpha value as needed\n",
        "model.fit(X_train, Y_train)\n",
        "\n",
        "# Predict on training and test data\n",
        "Y_train_pred = model.predict(X_train)\n",
        "Y_test_pred = model.predict(X_test)\n",
        "\n",
        "# Evaluate the model using Mean Absolute Error (MAE)\n",
        "train_mae = mean_absolute_error(Y_train, Y_train_pred)\n",
        "test_mae = mean_absolute_error(Y_test, Y_test_pred)\n",
        "\n",
        "# Print evaluation results\n",
        "print(\"Mean Absolute Error (MAE) for Training Data:\", train_mae)\n",
        "print(\"Mean Absolute Error (MAE) for Test Data:\", test_mae)"
      ],
      "metadata": {
        "id": "h55W6wA6Tuww",
        "outputId": "99b2c57e-461a-46c1-d7f3-c2fd195bc5f1",
        "colab": {
          "base_uri": "https://localhost:8080/"
        }
      },
      "execution_count": 90,
      "outputs": [
        {
          "output_type": "stream",
          "name": "stdout",
          "text": [
            "Mean Absolute Error (MAE) for Training Data: 2420.7522115205174\n",
            "Mean Absolute Error (MAE) for Test Data: 2387.2402344005736\n"
          ]
        }
      ]
    },
    {
      "cell_type": "markdown",
      "source": [
        "Q15- Did you get any improvement on test data using Ridge and Lasso?\n",
        "Explain why?"
      ],
      "metadata": {
        "id": "GwvBE_fgUg02"
      }
    },
    {
      "cell_type": "code",
      "source": [
        "#Q15- Did you get any improvement on test data using Ridge and Lasso? Explain why?\n",
        "By resolving the overfitting problem, Ridge and Lasso regression may enhance the model's performance on the test data.\n",
        "\n",
        "Ridge Regression:\n",
        "By pushing the coefficients closer to zero, this penalty term helps to lower the model's variance and avoid overfitting.\n",
        "Because of this, ridge regression occasionally outperforms ordinary least squares (OLS) regression on the test data, particularly in situations when the training data is sparse or noisy.\n",
        "\n",
        "Lasso Regression:\n",
        "adds a punishment term to the cost function as well, but this time the penalty is based on the coefficients' absolute values.\n",
        "By setting the coefficients of the remaining features to zero, this penalty term incentivizes the model to choose a subset of the most significant characteristics."
      ],
      "metadata": {
        "id": "hUyjIWyZghCz"
      },
      "execution_count": null,
      "outputs": []
    },
    {
      "cell_type": "code",
      "source": [
        "#Q16-Use Decison Tree Regression to evaluate the performance of test and train data   using evalmetric\n",
        "# Import necessary libraries\n",
        "from sklearn.tree import DecisionTreeRegressor\n",
        "\n",
        "# Define the evaluation metric function\n",
        "def evalmetric(y, ypred):\n",
        "    e = y - ypred\n",
        "    mse_f = np.mean(e**2)\n",
        "    rmse_f = np.sqrt(mse_f)\n",
        "    mae_f = np.mean(abs(e))\n",
        "    mape_f = 100*np.mean(abs(e/y))\n",
        "    r2_f = 1-(sum(e**2)/sum((y-np.mean(y))**2))\n",
        "    print(\"MSE:\", mse_f)\n",
        "    print(\"RMSE:\", rmse_f)\n",
        "    print(\"MAE:\",mae_f)\n",
        "    print(\"MAPE:\",mape_f)\n",
        "    print(\"R2:\",r2_f)\n",
        "\n",
        "# Create a decision tree regression model\n",
        "model = DecisionTreeRegressor()\n",
        "\n",
        "# Train the model\n",
        "model.fit(X_train, y_train)\n",
        "\n",
        "# Make predictions on the test and train data\n",
        "y_pred_test = model.predict(X_test)\n",
        "y_pred_train = model.predict(X_train)\n",
        "\n",
        "# Evaluate the performance of the model on the test data\n",
        "print(\"Performance on the test data:\")\n",
        "evalmetric(y_test, y_pred_test)\n",
        "\n",
        "# Evaluate the performance of the model on the train data\n",
        "print(\"\\nPerformance on the train data:\")\n",
        "evalmetric(y_train, y_pred_train)"
      ],
      "metadata": {
        "id": "d5b6RiZjUeuc",
        "outputId": "9aa51f8b-adbe-492b-f29f-9be8a57b715c",
        "colab": {
          "base_uri": "https://localhost:8080/"
        }
      },
      "execution_count": 92,
      "outputs": [
        {
          "output_type": "stream",
          "name": "stdout",
          "text": [
            "Performance on the test data:\n",
            "MSE: 4350235.188890022\n",
            "RMSE: 2085.721742920187\n",
            "MAE: 899.9168968253969\n",
            "MAPE: 7.124597827805947\n",
            "R2: 0.9591794032739537\n",
            "\n",
            "Performance on the train data:\n",
            "MSE: 83753.97633482143\n",
            "RMSE: 289.40279254841585\n",
            "MAE: 77.53468948412699\n",
            "MAPE: 0.7629440866398477\n",
            "R2: 0.999186651828738\n"
          ]
        }
      ]
    },
    {
      "cell_type": "code",
      "source": [
        "#Q17-Use Random Forest to evaluate the performance of test and train data   using evalmetric\n",
        "# Import necessary libraries\n",
        "from sklearn.ensemble import RandomForestRegressor\n",
        "\n",
        "# Define the evaluation metric function\n",
        "def evalmetric(y, ypred):\n",
        "    e = y - ypred\n",
        "    mse_f = np.mean(e**2)\n",
        "    rmse_f = np.sqrt(mse_f)\n",
        "    mae_f = np.mean(abs(e))\n",
        "    mape_f = 100*np.mean(abs(e/y))\n",
        "    r2_f = 1-(sum(e**2)/sum((y-np.mean(y))**2))\n",
        "    print(\"MSE:\", mse_f)\n",
        "    print(\"RMSE:\", rmse_f)\n",
        "    print(\"MAE:\",mae_f)\n",
        "    print(\"MAPE:\",mape_f)\n",
        "    print(\"R2:\",r2_f)\n",
        "\n",
        "# Create a random forest regression model\n",
        "model = RandomForestRegressor()\n",
        "\n",
        "# Train the model\n",
        "model.fit(X_train, y_train)\n",
        "\n",
        "# Make predictions on the test and train data\n",
        "y_pred_test = model.predict(X_test)\n",
        "y_pred_train = model.predict(X_train)\n",
        "\n",
        "# Evaluate the performance of the model on the test data\n",
        "print(\"Performance on the test data:\")\n",
        "evalmetric(y_test, y_pred_test)\n",
        "\n",
        "# Evaluate the performance of the model on the train data\n",
        "print(\"\\nPerformance on the train data:\")\n",
        "evalmetric(y_train, y_pred_train)"
      ],
      "metadata": {
        "id": "ZEcUQ9fbVJfI",
        "outputId": "b37c7f22-a2c3-414c-c208-9eface9a36f6",
        "colab": {
          "base_uri": "https://localhost:8080/"
        }
      },
      "execution_count": 93,
      "outputs": [
        {
          "output_type": "stream",
          "name": "stdout",
          "text": [
            "Performance on the test data:\n",
            "MSE: 1362281.9951439074\n",
            "RMSE: 1167.1683662368114\n",
            "MAE: 639.1609765250605\n",
            "MAPE: 5.391994389022622\n",
            "R2: 0.9872169752814877\n",
            "\n",
            "Performance on the train data:\n",
            "MSE: 381132.9109003732\n",
            "RMSE: 617.3596284989594\n",
            "MAE: 302.12367626049587\n",
            "MAPE: 2.435094954166286\n",
            "R2: 0.9962987577467447\n"
          ]
        }
      ]
    },
    {
      "cell_type": "code",
      "source": [
        "#Q18-Why Random forest perform better than Decison Tree on test data?\n",
        "For a number of reasons, Random Forest typically outperforms a single Decision Tree on test data:\n",
        "\n",
        "Reduced overfitting: By averaging the predictions of several trees, Random Forest reduces overfitting in comparison to a single Decision Tree.\n",
        "Improved management of high-dimensional data: Decision Trees may have trouble determining the ideal split in high-dimensional datasets, which can result in overfitting.\n",
        "Robustness against noise and outliers: When compared to a single Decision Tree, Random Forest is less susceptible to noise and outliers.\n",
        "Automatic feature selection: Random Forest considers just a subset of characteristics at each split, so implicitly doing feature selection.\n",
        "Non-linear associations: Compared to a single Decision Tree, Random Forest is more successful at capturing complicated non-linear relationships between features and the target variable."
      ],
      "metadata": {
        "id": "_e1I1_O3gwSj"
      },
      "execution_count": null,
      "outputs": []
    },
    {
      "cell_type": "code",
      "source": [
        "#Q19- Which regression technique among Linear Regresssion, Lasso Regression ,Ridge Regression, Decision Tree and Random Forest provide best performance on test data?\n",
        "The type of dataset, the connection between features and the target variable, and the particular assessment measure being used are some of the criteria that determine which regression approach performs best on test data.\n",
        "As a general rule of thumb:\n",
        "\n",
        "Linear Regression: This model is easy to understand and use. It functions best when there is roughly a linear connection between the target variable and the characteristics.\n",
        "Lasso Regression and Ridge Regression: These regularization methods are helpful for handling high-dimensional datasets and multicollinearity.\n",
        "Decision Tree: Capturing intricate interactions between features and the goal variable, decision trees are non-linear models.\n",
        "Random Forest: This ensemble technique constructs many decision trees and averages the predictions made by each.\n",
        "\n",
        "You should experiment with several models and assess their performance using suitable evaluation metrics (such as Mean Absolute Error, Mean Squared Error, or R-squared) on a held-out test dataset in order to ascertain which regression approach performs best on test data.\n",
        "To further increase the performance of models such as Random Forest, hyperparameter adjustment is also necessary. Furthermore, methods like as cross-validation can yield estimates of model performance that are more trustworthy.\n"
      ],
      "metadata": {
        "id": "G7MnYrr6gvq4"
      },
      "execution_count": null,
      "outputs": []
    },
    {
      "cell_type": "markdown",
      "source": [
        "Q18-Why Random forest perform better than Decison Tree on test data?"
      ],
      "metadata": {
        "id": "QhddVy3qVis7"
      }
    },
    {
      "cell_type": "markdown",
      "source": [
        "Q19- Which regression technique among Linear Regresssion, Lasso Regression ,Ridge Regression, Decision Tree and Random Forest  provide best performance on test data?\n"
      ],
      "metadata": {
        "id": "nFNRTXZrVUAt"
      }
    }
  ]
}